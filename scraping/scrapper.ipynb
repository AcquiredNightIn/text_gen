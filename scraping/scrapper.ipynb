{
 "cells": [
  {
   "cell_type": "code",
   "execution_count": 6,
   "metadata": {},
   "outputs": [],
   "source": [
    "import praw\n",
    "import auth\n",
    "import time\n",
    "import os.path"
   ]
  },
  {
   "cell_type": "code",
   "execution_count": 7,
   "metadata": {},
   "outputs": [],
   "source": [
    "def write_to_txt(filename, path, string):\n",
    "    string = string + \"\\n\"\n",
    "    initfilename = filename\n",
    "    try:\n",
    "        if os.path.isfile(r\"{}/{}.json\".format(path,filename)):\n",
    "            i = 0\n",
    "            while os.path.isfile(r\"{}/{}.json\".format(path,filename)):\n",
    "                filename = initfilename + \"v\" + str(i)\n",
    "                i += 1\n",
    "        with open(r\"{}/{}.txt\".format(path,filename), \"a\") as f:\n",
    "            f.write(string) \n",
    "    except:\n",
    "        print(\"Failed to write to file\")"
   ]
  },
  {
   "cell_type": "code",
   "execution_count": null,
   "metadata": {},
   "outputs": [],
   "source": [
    "def scraper_title(subreddit_name, num_posts, time_wait, filename, path):\n",
    "    subreddit = reddit.subreddit(subreddit_name)\n",
    "    print(\"Total posts:\\t\", num_posts)\n",
    "    for index, submission in enumerate(subreddit.top(limit=num_posts)):\n",
    "        title = submission.title\n",
    "\n",
    "        write_to_txt(filename, path, title)\n",
    "        \n",
    "        if index % int(num_posts/10) == 0:\n",
    "            print(\"Number of posts collected:\\t\", index)\n",
    "        time.sleep(time_wait)\n",
    "    return True"
   ]
  },
  {
   "cell_type": "code",
   "execution_count": null,
   "metadata": {},
   "outputs": [],
   "source": [
    "reddit = auth.login()\n",
    "\n",
    "sub_name = \"relationship_advice\"\n",
    "num = 1000\n",
    "wait = 0.1\n",
    "\n",
    "\n",
    "filename = \"{}_{}\".format(sub_name, num)\n",
    "path = \"data\"\n",
    "\n",
    "scraper_title(sub_name, num, wait, filename, path)"
   ]
  },
  {
   "cell_type": "code",
   "execution_count": null,
   "metadata": {},
   "outputs": [],
   "source": []
  }
 ],
 "metadata": {
  "kernelspec": {
   "display_name": "Python 3",
   "language": "python",
   "name": "python3"
  },
  "language_info": {
   "codemirror_mode": {
    "name": "ipython",
    "version": 3
   },
   "file_extension": ".py",
   "mimetype": "text/x-python",
   "name": "python",
   "nbconvert_exporter": "python",
   "pygments_lexer": "ipython3",
   "version": "3.7.0"
  }
 },
 "nbformat": 4,
 "nbformat_minor": 2
}
