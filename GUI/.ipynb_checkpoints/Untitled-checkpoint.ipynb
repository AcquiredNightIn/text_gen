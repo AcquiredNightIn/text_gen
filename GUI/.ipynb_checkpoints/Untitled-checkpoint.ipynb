{
 "cells": [
  {
   "cell_type": "code",
   "execution_count": 10,
   "metadata": {},
   "outputs": [
    {
     "ename": "TypeError",
     "evalue": "generate_prediction() takes 2 positional arguments but 5 were given",
     "output_type": "error",
     "traceback": [
      "\u001b[0;31m---------------------------------------------------------------------------\u001b[0m",
      "\u001b[0;31mTypeError\u001b[0m                                 Traceback (most recent call last)",
      "\u001b[0;32m<ipython-input-10-22ea3b99f1b6>\u001b[0m in \u001b[0;36m<module>\u001b[0;34m\u001b[0m\n\u001b[1;32m     31\u001b[0m \u001b[0mtxt\u001b[0m\u001b[0;34m.\u001b[0m\u001b[0mgrid\u001b[0m\u001b[0;34m(\u001b[0m\u001b[0mcolumn\u001b[0m\u001b[0;34m=\u001b[0m\u001b[0;36m1\u001b[0m\u001b[0;34m,\u001b[0m \u001b[0mrow\u001b[0m\u001b[0;34m=\u001b[0m\u001b[0;36m0\u001b[0m\u001b[0;34m)\u001b[0m\u001b[0;34m\u001b[0m\u001b[0m\n\u001b[1;32m     32\u001b[0m \u001b[0;34m\u001b[0m\u001b[0m\n\u001b[0;32m---> 33\u001b[0;31m \u001b[0mprediction\u001b[0m \u001b[0;34m=\u001b[0m \u001b[0mgenerate_prediction\u001b[0m\u001b[0;34m(\u001b[0m\u001b[0mtxt\u001b[0m\u001b[0;34m,\u001b[0m \u001b[0mNUMBER_OF_WORDS\u001b[0m\u001b[0;34m,\u001b[0m \u001b[0mmodel\u001b[0m\u001b[0;34m,\u001b[0m \u001b[0mtokenizer\u001b[0m\u001b[0;34m,\u001b[0m \u001b[0mmax_length\u001b[0m\u001b[0;34m)\u001b[0m\u001b[0;34m\u001b[0m\u001b[0m\n\u001b[0m\u001b[1;32m     34\u001b[0m \u001b[0;34m\u001b[0m\u001b[0m\n\u001b[1;32m     35\u001b[0m \u001b[0;32mdef\u001b[0m \u001b[0mclicked\u001b[0m\u001b[0;34m(\u001b[0m\u001b[0;34m)\u001b[0m\u001b[0;34m:\u001b[0m\u001b[0;34m\u001b[0m\u001b[0m\n",
      "\u001b[0;31mTypeError\u001b[0m: generate_prediction() takes 2 positional arguments but 5 were given"
     ]
    }
   ],
   "source": [
    "from tkinter import *\n",
    "from keras.models import load_model\n",
    "from auxillary import generate_prediction, generate_seq\n",
    "from keras.preprocessing.text import Tokenizer\n",
    "import pickle\n",
    "\n",
    "num_epochs = 30\n",
    "model_path = \"../saved_models/ra_top_{}.h5\".format(num_epochs)\n",
    "model = load_model(model_path)\n",
    "\n",
    "with open(\"../saved_models/ra_top_{}.pickle\".format(num_epochs), \"rb\") as f:\n",
    "    list_of_params = pickle.load(f)\n",
    "    tokenizer = list_of_params[0]\n",
    "    max_length = list_of_params[1]\n",
    "\n",
    "NUMBER_OF_WORDS = 15\n",
    "\n",
    "\n",
    "\n",
    "def generate_prediction(string, num_words, model, tokenizer, max_length):\n",
    "    prediction = generate_seq(model, tokenizer, max_length-1, string, num_words)\n",
    "    return prediction\n",
    "\n",
    "\n",
    "\n",
    "\n",
    "window = Tk()\n",
    " \n",
    "window.title(\"Welcome to LikeGeeks app\")\n",
    " \n",
    "window.geometry('350x200')\n",
    " \n",
    "lbl = Label(window, text=\"Insert your two words here: \")\n",
    " \n",
    "lbl.grid(column=0, row=0)\n",
    " \n",
    "txt = Entry(window,width=10)\n",
    " \n",
    "txt.grid(column=1, row=0)\n",
    "\n",
    "prediction = generate_prediction(txt, NUMBER_OF_WORDS, model, tokenizer, max_length)\n",
    " \n",
    "def clicked():\n",
    "    res =  txt.get() + prediction\n",
    "    lbl.configure(text= res)\n",
    " \n",
    "btn = Button(window, text=\"Click Me\", command=clicked)\n",
    " \n",
    "btn.grid(column=2, row=0)\n",
    " \n",
    "window.mainloop()"
   ]
  },
  {
   "cell_type": "code",
   "execution_count": null,
   "metadata": {},
   "outputs": [],
   "source": []
  }
 ],
 "metadata": {
  "kernelspec": {
   "display_name": "Python 3",
   "language": "python",
   "name": "python3"
  },
  "language_info": {
   "codemirror_mode": {
    "name": "ipython",
    "version": 3
   },
   "file_extension": ".py",
   "mimetype": "text/x-python",
   "name": "python",
   "nbconvert_exporter": "python",
   "pygments_lexer": "ipython3",
   "version": "3.7.0"
  }
 },
 "nbformat": 4,
 "nbformat_minor": 2
}
