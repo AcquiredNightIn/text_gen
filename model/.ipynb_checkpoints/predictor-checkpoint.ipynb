{
 "cells": [
  {
   "cell_type": "code",
   "execution_count": 1,
   "metadata": {},
   "outputs": [
    {
     "name": "stderr",
     "output_type": "stream",
     "text": [
      "Using TensorFlow backend.\n"
     ]
    }
   ],
   "source": [
    "from numpy import array\n",
    "from keras.preprocessing.text import Tokenizer\n",
    "from keras.utils import to_categorical\n",
    "from keras.preprocessing.sequence import pad_sequences\n",
    "from keras.models import Sequential\n",
    "from keras.layers import Dense\n",
    "from keras.layers import LSTM\n",
    "from keras.layers import Embedding\n",
    "import pickle"
   ]
  },
  {
   "cell_type": "code",
   "execution_count": 2,
   "metadata": {},
   "outputs": [
    {
     "name": "stdout",
     "output_type": "stream",
     "text": [
      "file imported\n"
     ]
    }
   ],
   "source": [
    "file_path = '../data/relationships_10000.txt'\n",
    "\n",
    "with open(file_path, 'r') as file:\n",
    "    data = file.read()\n",
    "    print(\"file imported\")\n",
    "#print(data)"
   ]
  },
  {
   "cell_type": "code",
   "execution_count": 3,
   "metadata": {},
   "outputs": [],
   "source": [
    "# generate a sequence from a language model\n",
    "def generate_seq(model, tokenizer, max_length, seed_text, n_words):\n",
    "    in_text = seed_text\n",
    "    # generate a fixed number of words\n",
    "    for _ in range(n_words):\n",
    "        # encode the text as integer\n",
    "        encoded = tokenizer.texts_to_sequences([in_text])[0]\n",
    "        # pre-pad sequences to a fixed length\n",
    "        encoded = pad_sequences([encoded], maxlen=max_length, padding='pre')\n",
    "        # predict probabilities for each word\n",
    "        yhat = model.predict_classes(encoded, verbose=0)\n",
    "        # map predicted word index to word\n",
    "        out_word = ''\n",
    "        for word, index in tokenizer.word_index.items():\n",
    "            if index == yhat:\n",
    "                out_word = word\n",
    "                break\n",
    "        # append to input\n",
    "        in_text += ' ' + out_word\n",
    "    return in_text"
   ]
  },
  {
   "cell_type": "code",
   "execution_count": null,
   "metadata": {},
   "outputs": [
    {
     "name": "stdout",
     "output_type": "stream",
     "text": [
      "Vocabulary Size: 9860\n",
      "Total Sequences: 135581\n",
      "Max Sequence Length: 3\n",
      "WARNING:tensorflow:From /Library/Frameworks/Python.framework/Versions/3.7/lib/python3.7/site-packages/keras/backend/tensorflow_backend.py:66: The name tf.get_default_graph is deprecated. Please use tf.compat.v1.get_default_graph instead.\n",
      "\n",
      "WARNING:tensorflow:From /Library/Frameworks/Python.framework/Versions/3.7/lib/python3.7/site-packages/keras/backend/tensorflow_backend.py:541: The name tf.placeholder is deprecated. Please use tf.compat.v1.placeholder instead.\n",
      "\n",
      "WARNING:tensorflow:From /Library/Frameworks/Python.framework/Versions/3.7/lib/python3.7/site-packages/keras/backend/tensorflow_backend.py:4432: The name tf.random_uniform is deprecated. Please use tf.random.uniform instead.\n",
      "\n",
      "Model: \"sequential_1\"\n",
      "_________________________________________________________________\n",
      "Layer (type)                 Output Shape              Param #   \n",
      "=================================================================\n",
      "embedding_1 (Embedding)      (None, 2, 50)             493000    \n",
      "_________________________________________________________________\n",
      "lstm_1 (LSTM)                (None, 100)               60400     \n",
      "_________________________________________________________________\n",
      "dense_1 (Dense)              (None, 9860)              995860    \n",
      "=================================================================\n",
      "Total params: 1,549,260\n",
      "Trainable params: 1,549,260\n",
      "Non-trainable params: 0\n",
      "_________________________________________________________________\n",
      "None\n",
      "WARNING:tensorflow:From /Library/Frameworks/Python.framework/Versions/3.7/lib/python3.7/site-packages/keras/optimizers.py:793: The name tf.train.Optimizer is deprecated. Please use tf.compat.v1.train.Optimizer instead.\n",
      "\n",
      "WARNING:tensorflow:From /Library/Frameworks/Python.framework/Versions/3.7/lib/python3.7/site-packages/keras/backend/tensorflow_backend.py:3576: The name tf.log is deprecated. Please use tf.math.log instead.\n",
      "\n"
     ]
    }
   ],
   "source": [
    "# define model params\n",
    "number_of_embeddings = 50\n",
    "LSTM_units = 100\n",
    "\n",
    "\n",
    "# Tokenize\n",
    "tokenizer = Tokenizer(filters='\"#$%&*+,-/:;<=>@\\\\^_`{|}~\\t\\n')\n",
    "tokenizer.fit_on_texts([data])\n",
    "encoded = tokenizer.texts_to_sequences([data])[0]\n",
    "# retrieve vocabulary size\n",
    "vocab_size = len(tokenizer.word_index) + 1\n",
    "print('Vocabulary Size: %d' % vocab_size)\n",
    "\n",
    "# encode 2 words -> 1 word\n",
    "sequences = list()\n",
    "for i in range(2, len(encoded)):\n",
    "    sequence = encoded[i-2:i+1]\n",
    "    sequences.append(sequence)\n",
    "print('Total Sequences: %d' % len(sequences))\n",
    "\n",
    "# pad sequences\n",
    "max_length = max([len(seq) for seq in sequences])\n",
    "sequences = pad_sequences(sequences, maxlen=max_length, padding='pre')\n",
    "print('Max Sequence Length: %d' % max_length)\n",
    "# split into input and output elements\n",
    "sequences = array(sequences)\n",
    "X, y = sequences[:,:-1],sequences[:,-1]\n",
    "y = to_categorical(y, num_classes=vocab_size)\n",
    "\n",
    "# define model\n",
    "model = Sequential()\n",
    "model.add(Embedding(vocab_size, number_of_embeddings, input_length=max_length-1))\n",
    "model.add(LSTM(LSTM_units))\n",
    "model.add(Dense(vocab_size, activation='softmax'))\n",
    "print(model.summary())\n",
    "\n",
    "# compile network\n",
    "model.compile(loss='categorical_crossentropy', optimizer='adam', metrics=['accuracy'])\n"
   ]
  },
  {
   "cell_type": "code",
   "execution_count": null,
   "metadata": {},
   "outputs": [],
   "source": [
    "def generate_arrays_from_file(path):\n",
    "    while True:\n",
    "        with open(path) as f:\n",
    "            for line in f:\n",
    "                encoded = tokenizer.texts_to_sequences([line])\n",
    "                #print(encoded)\n",
    "                # encode 2 words -> 1 word\n",
    "                sequences = list()\n",
    "                for i in range(2, len(encoded)):\n",
    "                    sequence = encoded[i-2:i+1]\n",
    "                    sequences.append(sequence)\n",
    "                #print('Total Sequences: %d' % len(sequences))\n",
    "                \n",
    "                # pad sequences\n",
    "                sequences = pad_sequences(sequences, maxlen=max_length, padding='pre')\n",
    "                #print('Max Sequence Length: %d' % max_length)\n",
    "                # split into input and output elements\n",
    "                sequences = array(sequences)\n",
    "                X, y = sequences[:,:-1],sequences[:,-1]\n",
    "                y = to_categorical(y, num_classes=vocab_size)\n",
    "                yield (X, y)"
   ]
  },
  {
   "cell_type": "code",
   "execution_count": null,
   "metadata": {
    "scrolled": true
   },
   "outputs": [
    {
     "name": "stdout",
     "output_type": "stream",
     "text": [
      "WARNING:tensorflow:From /Library/Frameworks/Python.framework/Versions/3.7/lib/python3.7/site-packages/tensorflow/python/ops/math_grad.py:1250: add_dispatch_support.<locals>.wrapper (from tensorflow.python.ops.array_ops) is deprecated and will be removed in a future version.\n",
      "Instructions for updating:\n",
      "Use tf.where in 2.0, which has the same broadcast rule as np.where\n",
      "WARNING:tensorflow:From /Library/Frameworks/Python.framework/Versions/3.7/lib/python3.7/site-packages/keras/backend/tensorflow_backend.py:1033: The name tf.assign_add is deprecated. Please use tf.compat.v1.assign_add instead.\n",
      "\n",
      "Epoch 1/50\n",
      " - 77s - loss: 6.5682 - acc: 0.0697\n",
      "Epoch 2/50\n",
      " - 78s - loss: 5.6326 - acc: 0.1429\n",
      "Epoch 3/50\n",
      " - 76s - loss: 5.1494 - acc: 0.1780\n",
      "Epoch 4/50\n",
      " - 79s - loss: 4.8148 - acc: 0.1987\n",
      "Epoch 5/50\n",
      " - 77s - loss: 4.5468 - acc: 0.2158\n",
      "Epoch 6/50\n",
      " - 79s - loss: 4.3175 - acc: 0.2341\n",
      "Epoch 7/50\n",
      " - 78s - loss: 4.1177 - acc: 0.2523\n",
      "Epoch 8/50\n",
      " - 77s - loss: 3.9401 - acc: 0.2686\n",
      "Epoch 9/50\n",
      " - 80s - loss: 3.7780 - acc: 0.2872\n",
      "Epoch 10/50\n",
      " - 78s - loss: 3.6288 - acc: 0.3059\n",
      "Epoch 11/50\n",
      " - 79s - loss: 3.4932 - acc: 0.3231\n",
      "Epoch 12/50\n",
      " - 78s - loss: 3.3701 - acc: 0.3412\n",
      "Epoch 13/50\n",
      " - 79s - loss: 3.2548 - acc: 0.3562\n",
      "Epoch 14/50\n",
      " - 79s - loss: 3.1533 - acc: 0.3706\n",
      "Epoch 15/50\n",
      " - 78s - loss: 3.0610 - acc: 0.3827\n",
      "Epoch 16/50\n"
     ]
    }
   ],
   "source": [
    "# fit network\n",
    "batch_size = 1000\n",
    "num_steps_per_epoch = 2000#int((len(data))/ batch_size)\n",
    "num_epochs = 50\n",
    "#model.fit_generator(generate_arrays_from_file(file_path),\n",
    "#                    steps_per_epoch=num_steps_per_epoch, epochs=num_epochs, verbose=1)\n",
    "model.fit(X, y, epochs=num_epochs, verbose=1)"
   ]
  },
  {
   "cell_type": "code",
   "execution_count": null,
   "metadata": {},
   "outputs": [],
   "source": [
    "def generate_prediction(string, num_words):\n",
    "    prediction = generate_seq(model, tokenizer, max_length-1, string, num_words)\n",
    "    return prediction"
   ]
  },
  {
   "cell_type": "code",
   "execution_count": null,
   "metadata": {},
   "outputs": [],
   "source": [
    "# evaluate model\n",
    "\n",
    "test1 = \"My wife\"\n",
    "test2 = \"My husband\"\n",
    "test3 = \"My friend\"\n",
    "test4 = \"My fiance\"\n",
    "test5 = \"My (22M)\"\n",
    "test6 = \"My girlfriend\"\n",
    "test7 = \"My boyfriend\"\n",
    "test8 = \"My partner\"\n",
    "test9 = \"My (23F)\"\n",
    "test10 = \"My spouse\"\n",
    "\n",
    "length = 25\n",
    "\n",
    "print(generate_prediction(test1, length),\"\\n\")\n",
    "print(generate_prediction(test2, length),\"\\n\")\n",
    "print(generate_prediction(test3, length),\"\\n\")\n",
    "print(generate_prediction(test4, length),\"\\n\")\n",
    "print(generate_prediction(test5, length),\"\\n\")\n",
    "print(generate_prediction(test6, length),\"\\n\")\n",
    "print(generate_prediction(test7, length),\"\\n\")\n",
    "print(generate_prediction(test8, length),\"\\n\")\n",
    "print(generate_prediction(test9, length),\"\\n\")\n",
    "print(generate_prediction(test10, length),\"\\n\")\n"
   ]
  },
  {
   "cell_type": "code",
   "execution_count": null,
   "metadata": {},
   "outputs": [],
   "source": [
    "model_path = \"../saved_models/relationships_{}.h5\".format(num_epochs)\n",
    "model.save(model_path)\n",
    "\n",
    "\n",
    "key_data = [tokenizer, max_length, num_epochs]\n",
    "\n",
    "with open(\"../saved_models/relationships_{}.pickle\".format(num_epochs), 'wb') as f:\n",
    "    pickle.dump(key_data, f)"
   ]
  },
  {
   "cell_type": "code",
   "execution_count": null,
   "metadata": {},
   "outputs": [],
   "source": []
  },
  {
   "cell_type": "code",
   "execution_count": null,
   "metadata": {},
   "outputs": [],
   "source": [
    "print(generate_prediction(\"Dan Welsh\", 15))"
   ]
  },
  {
   "cell_type": "code",
   "execution_count": null,
   "metadata": {},
   "outputs": [],
   "source": [
    "del model"
   ]
  }
 ],
 "metadata": {
  "kernelspec": {
   "display_name": "Python 3",
   "language": "python",
   "name": "python3"
  },
  "language_info": {
   "codemirror_mode": {
    "name": "ipython",
    "version": 3
   },
   "file_extension": ".py",
   "mimetype": "text/x-python",
   "name": "python",
   "nbconvert_exporter": "python",
   "pygments_lexer": "ipython3",
   "version": "3.7.0"
  }
 },
 "nbformat": 4,
 "nbformat_minor": 2
}
