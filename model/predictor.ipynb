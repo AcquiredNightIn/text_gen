{
 "cells": [
  {
   "cell_type": "code",
   "execution_count": 1,
   "metadata": {},
   "outputs": [
    {
     "name": "stderr",
     "output_type": "stream",
     "text": [
      "Using TensorFlow backend.\n"
     ]
    }
   ],
   "source": [
    "from numpy import array\n",
    "from keras.preprocessing.text import Tokenizer\n",
    "from keras.utils import to_categorical\n",
    "from keras.preprocessing.sequence import pad_sequences\n",
    "from keras.models import Sequential\n",
    "from keras.layers import Dense\n",
    "from keras.layers import LSTM\n",
    "from keras.layers import Embedding\n",
    "import pickle"
   ]
  },
  {
   "cell_type": "code",
   "execution_count": 2,
   "metadata": {},
   "outputs": [],
   "source": [
    "file_path = '../data/relationship_advice_1000.txt'\n",
    "\n",
    "with open(file_path, 'r') as file:\n",
    "    data = file.read()\n",
    "#print(data)"
   ]
  },
  {
   "cell_type": "code",
   "execution_count": 3,
   "metadata": {},
   "outputs": [],
   "source": [
    "# generate a sequence from a language model\n",
    "def generate_seq(model, tokenizer, max_length, seed_text, n_words):\n",
    "    in_text = seed_text\n",
    "    # generate a fixed number of words\n",
    "    for _ in range(n_words):\n",
    "        # encode the text as integer\n",
    "        encoded = tokenizer.texts_to_sequences([in_text])[0]\n",
    "        # pre-pad sequences to a fixed length\n",
    "        encoded = pad_sequences([encoded], maxlen=max_length, padding='pre')\n",
    "        # predict probabilities for each word\n",
    "        yhat = model.predict_classes(encoded, verbose=0)\n",
    "        # map predicted word index to word\n",
    "        out_word = ''\n",
    "        for word, index in tokenizer.word_index.items():\n",
    "            if index == yhat:\n",
    "                out_word = word\n",
    "                break\n",
    "        # append to input\n",
    "        in_text += ' ' + out_word\n",
    "    return in_text"
   ]
  },
  {
   "cell_type": "code",
   "execution_count": 4,
   "metadata": {},
   "outputs": [
    {
     "name": "stdout",
     "output_type": "stream",
     "text": [
      "Vocabulary Size: 2932\n",
      "Total Sequences: 16602\n",
      "Max Sequence Length: 3\n",
      "WARNING:tensorflow:From /Library/Frameworks/Python.framework/Versions/3.7/lib/python3.7/site-packages/keras/backend/tensorflow_backend.py:66: The name tf.get_default_graph is deprecated. Please use tf.compat.v1.get_default_graph instead.\n",
      "\n",
      "WARNING:tensorflow:From /Library/Frameworks/Python.framework/Versions/3.7/lib/python3.7/site-packages/keras/backend/tensorflow_backend.py:541: The name tf.placeholder is deprecated. Please use tf.compat.v1.placeholder instead.\n",
      "\n",
      "WARNING:tensorflow:From /Library/Frameworks/Python.framework/Versions/3.7/lib/python3.7/site-packages/keras/backend/tensorflow_backend.py:4432: The name tf.random_uniform is deprecated. Please use tf.random.uniform instead.\n",
      "\n",
      "Model: \"sequential_1\"\n",
      "_________________________________________________________________\n",
      "Layer (type)                 Output Shape              Param #   \n",
      "=================================================================\n",
      "embedding_1 (Embedding)      (None, 2, 50)             146600    \n",
      "_________________________________________________________________\n",
      "lstm_1 (LSTM)                (None, 100)               60400     \n",
      "_________________________________________________________________\n",
      "dense_1 (Dense)              (None, 2932)              296132    \n",
      "=================================================================\n",
      "Total params: 503,132\n",
      "Trainable params: 503,132\n",
      "Non-trainable params: 0\n",
      "_________________________________________________________________\n",
      "None\n",
      "WARNING:tensorflow:From /Library/Frameworks/Python.framework/Versions/3.7/lib/python3.7/site-packages/keras/optimizers.py:793: The name tf.train.Optimizer is deprecated. Please use tf.compat.v1.train.Optimizer instead.\n",
      "\n",
      "WARNING:tensorflow:From /Library/Frameworks/Python.framework/Versions/3.7/lib/python3.7/site-packages/keras/backend/tensorflow_backend.py:3576: The name tf.log is deprecated. Please use tf.math.log instead.\n",
      "\n"
     ]
    }
   ],
   "source": [
    "# Tokenize\n",
    "tokenizer = Tokenizer(filters='\"#$%&*+,-/:;<=>@\\\\^_`{|}~\\t\\n')\n",
    "tokenizer.fit_on_texts([data])\n",
    "encoded = tokenizer.texts_to_sequences([data])[0]\n",
    "# retrieve vocabulary size\n",
    "vocab_size = len(tokenizer.word_index) + 1\n",
    "print('Vocabulary Size: %d' % vocab_size)\n",
    "\n",
    "# encode 2 words -> 1 word\n",
    "sequences = list()\n",
    "for i in range(2, len(encoded)):\n",
    "    sequence = encoded[i-2:i+1]\n",
    "    sequences.append(sequence)\n",
    "print('Total Sequences: %d' % len(sequences))\n",
    "\n",
    "# pad sequences\n",
    "max_length = max([len(seq) for seq in sequences])\n",
    "sequences = pad_sequences(sequences, maxlen=max_length, padding='pre')\n",
    "print('Max Sequence Length: %d' % max_length)\n",
    "# split into input and output elements\n",
    "sequences = array(sequences)\n",
    "X, y = sequences[:,:-1],sequences[:,-1]\n",
    "y = to_categorical(y, num_classes=vocab_size)\n",
    "\n",
    "# define model\n",
    "model = Sequential()\n",
    "model.add(Embedding(vocab_size, 50, input_length=max_length-1))\n",
    "model.add(LSTM(100))\n",
    "model.add(Dense(vocab_size, activation='softmax'))\n",
    "print(model.summary())\n",
    "\n",
    "# compile network\n",
    "model.compile(loss='categorical_crossentropy', optimizer='adam', metrics=['accuracy'])\n"
   ]
  },
  {
   "cell_type": "code",
   "execution_count": 5,
   "metadata": {
    "scrolled": true
   },
   "outputs": [
    {
     "name": "stdout",
     "output_type": "stream",
     "text": [
      "WARNING:tensorflow:From /Library/Frameworks/Python.framework/Versions/3.7/lib/python3.7/site-packages/tensorflow/python/ops/math_grad.py:1250: add_dispatch_support.<locals>.wrapper (from tensorflow.python.ops.array_ops) is deprecated and will be removed in a future version.\n",
      "Instructions for updating:\n",
      "Use tf.where in 2.0, which has the same broadcast rule as np.where\n",
      "WARNING:tensorflow:From /Library/Frameworks/Python.framework/Versions/3.7/lib/python3.7/site-packages/keras/backend/tensorflow_backend.py:1033: The name tf.assign_add is deprecated. Please use tf.compat.v1.assign_add instead.\n",
      "\n",
      "Epoch 1/20\n",
      " - 4s - loss: 6.7777 - acc: 0.0545\n",
      "Epoch 2/20\n",
      " - 4s - loss: 6.2223 - acc: 0.0560\n",
      "Epoch 3/20\n",
      " - 4s - loss: 6.0444 - acc: 0.0601\n",
      "Epoch 4/20\n",
      " - 4s - loss: 5.8323 - acc: 0.0729\n",
      "Epoch 5/20\n",
      " - 4s - loss: 5.6126 - acc: 0.0900\n",
      "Epoch 6/20\n",
      " - 4s - loss: 5.3589 - acc: 0.1131\n",
      "Epoch 7/20\n",
      " - 4s - loss: 5.0464 - acc: 0.1395\n",
      "Epoch 8/20\n",
      " - 4s - loss: 4.7225 - acc: 0.1691\n",
      "Epoch 9/20\n",
      " - 4s - loss: 4.4222 - acc: 0.1951\n",
      "Epoch 10/20\n",
      " - 4s - loss: 4.1446 - acc: 0.2236\n",
      "Epoch 11/20\n",
      " - 4s - loss: 3.8930 - acc: 0.2539\n",
      "Epoch 12/20\n",
      " - 4s - loss: 3.6637 - acc: 0.2784\n",
      "Epoch 13/20\n",
      " - 4s - loss: 3.4530 - acc: 0.3091\n",
      "Epoch 14/20\n",
      " - 4s - loss: 3.2568 - acc: 0.3410\n",
      "Epoch 15/20\n",
      " - 4s - loss: 3.0762 - acc: 0.3681\n",
      "Epoch 16/20\n",
      " - 4s - loss: 2.9045 - acc: 0.3968\n",
      "Epoch 17/20\n",
      " - 4s - loss: 2.7468 - acc: 0.4236\n",
      "Epoch 18/20\n",
      " - 5s - loss: 2.6015 - acc: 0.4462\n",
      "Epoch 19/20\n",
      " - 4s - loss: 2.4647 - acc: 0.4739\n",
      "Epoch 20/20\n",
      " - 4s - loss: 2.3401 - acc: 0.4953\n"
     ]
    },
    {
     "data": {
      "text/plain": [
       "<keras.callbacks.History at 0x10acce0f0>"
      ]
     },
     "execution_count": 5,
     "metadata": {},
     "output_type": "execute_result"
    }
   ],
   "source": [
    "# fit network\n",
    "num_epochs = 100\n",
    "model.fit(X, y, epochs=num_epochs, verbose=2)"
   ]
  },
  {
   "cell_type": "code",
   "execution_count": 6,
   "metadata": {},
   "outputs": [],
   "source": [
    "def generate_prediction(string, num_words):\n",
    "    prediction = generate_seq(model, tokenizer, max_length-1, string, num_words)\n",
    "    return prediction"
   ]
  },
  {
   "cell_type": "code",
   "execution_count": 7,
   "metadata": {},
   "outputs": [
    {
     "name": "stdout",
     "output_type": "stream",
     "text": [
      "My wife is going to abandon her and now i don’t know what to do i do? my gf (24f) of 3 years just informed me and \n",
      "\n",
      "My husband (31m) has been cheating on me and he is going to abandon her and now i don’t know what to do i do? my gf \n",
      "\n",
      "My friend boyfriend (21m) is extremely addicted to gaming my wife is going to abandon her and now i don’t know what to do i do? my \n",
      "\n",
      "My fiance (27f) possibly gave a stripper a handjob at her bachelorette party planning on leaving [update] my wife is going to abandon her and now i \n",
      "\n",
      "My (22M) girlfriend (20f) of her and now i don’t know what to do i do? my gf (24f) of 3 years just informed me and he \n",
      "\n",
      "My girlfriend [25f] of two years now i don’t know what to do i do? my gf (24f) of 3 years just informed me and he is \n",
      "\n",
      "My boyfriend (27m) is cheating on me and he is going to abandon her and now i don’t know what to do i do? my gf (24f) \n",
      "\n",
      "My partner socks to wipe after going to abandon her and now i don’t know what to do i do? my gf (24f) of 3 years just \n",
      "\n",
      "My (23F) girlfriend [25f] of two years now i don’t know what to do i do? my gf (24f) of 3 years just informed me and he \n",
      "\n",
      "My spouse husband (31m) has been cheating on me and he is going to abandon her and now i don’t know what to do i do? my \n",
      "\n"
     ]
    }
   ],
   "source": [
    "# evaluate model\n",
    "\n",
    "test1 = \"My wife\"\n",
    "test2 = \"My husband\"\n",
    "test3 = \"My friend\"\n",
    "test4 = \"My fiance\"\n",
    "test5 = \"My (22M)\"\n",
    "test6 = \"My girlfriend\"\n",
    "test7 = \"My boyfriend\"\n",
    "test8 = \"My partner\"\n",
    "test9 = \"My (23F)\"\n",
    "test10 = \"My spouse\"\n",
    "\n",
    "length = 25\n",
    "\n",
    "print(generate_prediction(test1, length),\"\\n\")\n",
    "print(generate_prediction(test2, length),\"\\n\")\n",
    "print(generate_prediction(test3, length),\"\\n\")\n",
    "print(generate_prediction(test4, length),\"\\n\")\n",
    "print(generate_prediction(test5, length),\"\\n\")\n",
    "print(generate_prediction(test6, length),\"\\n\")\n",
    "print(generate_prediction(test7, length),\"\\n\")\n",
    "print(generate_prediction(test8, length),\"\\n\")\n",
    "print(generate_prediction(test9, length),\"\\n\")\n",
    "print(generate_prediction(test10, length),\"\\n\")\n"
   ]
  },
  {
   "cell_type": "code",
   "execution_count": 8,
   "metadata": {},
   "outputs": [],
   "source": [
    "model_path = \"../saved_models/ra_top_{}.h5\".format(num_epochs)\n",
    "model.save(model_path)\n",
    "\n",
    "\n",
    "key_data = [tokenizer, max_length, num_epochs]\n",
    "\n",
    "with open(\"../saved_models/ra_top_{}.pickle\".format(num_epochs), 'wb') as f:\n",
    "    pickle.dump(key_data, f)"
   ]
  },
  {
   "cell_type": "code",
   "execution_count": null,
   "metadata": {},
   "outputs": [],
   "source": []
  },
  {
   "cell_type": "code",
   "execution_count": 9,
   "metadata": {},
   "outputs": [
    {
     "name": "stdout",
     "output_type": "stream",
     "text": [
      "Dan Welsh a bad choice. my (f30) boyfriend just told me she was pregnant. i broke up\n"
     ]
    }
   ],
   "source": [
    "print(generate_prediction(\"Dan Welsh\", 15))"
   ]
  },
  {
   "cell_type": "code",
   "execution_count": 10,
   "metadata": {},
   "outputs": [],
   "source": [
    "del model"
   ]
  }
 ],
 "metadata": {
  "kernelspec": {
   "display_name": "Python 3",
   "language": "python",
   "name": "python3"
  },
  "language_info": {
   "codemirror_mode": {
    "name": "ipython",
    "version": 3
   },
   "file_extension": ".py",
   "mimetype": "text/x-python",
   "name": "python",
   "nbconvert_exporter": "python",
   "pygments_lexer": "ipython3",
   "version": "3.7.0"
  }
 },
 "nbformat": 4,
 "nbformat_minor": 2
}
