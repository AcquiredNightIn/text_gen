{
 "cells": [
  {
   "cell_type": "code",
   "execution_count": 12,
   "metadata": {},
   "outputs": [],
   "source": [
    "from numpy import array\n",
    "from keras.preprocessing.text import Tokenizer\n",
    "from keras.utils import to_categorical\n",
    "from keras.preprocessing.sequence import pad_sequences\n",
    "from keras.models import Sequential\n",
    "from keras.layers import Dropout\n",
    "from keras.layers import Dense\n",
    "from keras.layers import LSTM\n",
    "from keras.layers import Embedding\n",
    "import pickle"
   ]
  },
  {
   "cell_type": "code",
   "execution_count": 13,
   "metadata": {},
   "outputs": [
    {
     "name": "stdout",
     "output_type": "stream",
     "text": [
      "file imported\n"
     ]
    }
   ],
   "source": [
    "file_path = '../data/relationships_10000.txt'\n",
    "\n",
    "with open(file_path, 'r') as file:\n",
    "    data = file.read()\n",
    "    print(\"file imported\")\n",
    "#print(data)"
   ]
  },
  {
   "cell_type": "code",
   "execution_count": 14,
   "metadata": {},
   "outputs": [],
   "source": [
    "# generate a sequence from a language model\n",
    "def generate_seq(model, tokenizer, max_length, seed_text, n_words):\n",
    "    in_text = seed_text\n",
    "    # generate a fixed number of words\n",
    "    for _ in range(n_words):\n",
    "        # encode the text as integer\n",
    "        encoded = tokenizer.texts_to_sequences([in_text])[0]\n",
    "        # pre-pad sequences to a fixed length\n",
    "        encoded = pad_sequences([encoded], maxlen=max_length, padding='pre')\n",
    "        # predict probabilities for each word\n",
    "        yhat = model.predict_classes(encoded, verbose=0)\n",
    "        # map predicted word index to word\n",
    "        out_word = ''\n",
    "        for word, index in tokenizer.word_index.items():\n",
    "            if index == yhat:\n",
    "                out_word = word\n",
    "                break\n",
    "        # append to input\n",
    "        in_text += ' ' + out_word\n",
    "    return in_text"
   ]
  },
  {
   "cell_type": "code",
   "execution_count": 15,
   "metadata": {},
   "outputs": [
    {
     "name": "stdout",
     "output_type": "stream",
     "text": [
      "Vocabulary Size: 9860\n",
      "Total Sequences: 135581\n",
      "Max Sequence Length: 3\n",
      "WARNING:tensorflow:From /Library/Frameworks/Python.framework/Versions/3.7/lib/python3.7/site-packages/keras/backend/tensorflow_backend.py:3733: calling dropout (from tensorflow.python.ops.nn_ops) with keep_prob is deprecated and will be removed in a future version.\n",
      "Instructions for updating:\n",
      "Please use `rate` instead of `keep_prob`. Rate should be set to `rate = 1 - keep_prob`.\n",
      "Model: \"sequential_2\"\n",
      "_________________________________________________________________\n",
      "Layer (type)                 Output Shape              Param #   \n",
      "=================================================================\n",
      "embedding_2 (Embedding)      (None, 2, 10)             98600     \n",
      "_________________________________________________________________\n",
      "lstm_2 (LSTM)                (None, 100)               44400     \n",
      "_________________________________________________________________\n",
      "dropout_1 (Dropout)          (None, 100)               0         \n",
      "_________________________________________________________________\n",
      "dense_2 (Dense)              (None, 9860)              995860    \n",
      "=================================================================\n",
      "Total params: 1,138,860\n",
      "Trainable params: 1,138,860\n",
      "Non-trainable params: 0\n",
      "_________________________________________________________________\n",
      "None\n"
     ]
    }
   ],
   "source": [
    "# define model params\n",
    "number_of_embeddings = 10\n",
    "LSTM_units = 100\n",
    "\n",
    "\n",
    "# Tokenize\n",
    "tokenizer = Tokenizer(filters='\"#$%&*+,-/:;<=>@\\\\^_`{|}~\\t\\n')\n",
    "tokenizer.fit_on_texts([data])\n",
    "encoded = tokenizer.texts_to_sequences([data])[0]\n",
    "# retrieve vocabulary size\n",
    "vocab_size = len(tokenizer.word_index) + 1\n",
    "print('Vocabulary Size: %d' % vocab_size)\n",
    "\n",
    "# encode 2 words -> 1 word\n",
    "sequences = list()\n",
    "for i in range(2, len(encoded)):\n",
    "    sequence = encoded[i-2:i+1]\n",
    "    sequences.append(sequence)\n",
    "print('Total Sequences: %d' % len(sequences))\n",
    "\n",
    "# pad sequences\n",
    "max_length = max([len(seq) for seq in sequences])\n",
    "sequences = pad_sequences(sequences, maxlen=max_length, padding='pre')\n",
    "print('Max Sequence Length: %d' % max_length)\n",
    "# split into input and output elements\n",
    "sequences = array(sequences)\n",
    "X, y = sequences[:,:-1],sequences[:,-1]\n",
    "y = to_categorical(y, num_classes=vocab_size)\n",
    "\n",
    "# define model\n",
    "model = Sequential()\n",
    "model.add(Embedding(vocab_size, number_of_embeddings, input_length=max_length-1))\n",
    "model.add(LSTM(LSTM_units))\n",
    "model.add(Dropout(0.1))\n",
    "model.add(Dense(vocab_size, activation='softmax'))\n",
    "print(model.summary())\n",
    "\n",
    "# compile network\n",
    "model.compile(loss='categorical_crossentropy', optimizer='adam', metrics=['accuracy'])\n"
   ]
  },
  {
   "cell_type": "code",
   "execution_count": 16,
   "metadata": {},
   "outputs": [],
   "source": [
    "def generate_arrays_from_file(path):\n",
    "    while True:\n",
    "        with open(path) as f:\n",
    "            for line in f:\n",
    "                encoded = tokenizer.texts_to_sequences([line])\n",
    "                #print(encoded)\n",
    "                # encode 2 words -> 1 word\n",
    "                sequences = list()\n",
    "                for i in range(2, len(encoded)):\n",
    "                    sequence = encoded[i-2:i+1]\n",
    "                    sequences.append(sequence)\n",
    "                #print('Total Sequences: %d' % len(sequences))\n",
    "                \n",
    "                # pad sequences\n",
    "                sequences = pad_sequences(sequences, maxlen=max_length, padding='pre')\n",
    "                #print('Max Sequence Length: %d' % max_length)\n",
    "                # split into input and output elements\n",
    "                sequences = array(sequences)\n",
    "                X, y = sequences[:,:-1],sequences[:,-1]\n",
    "                y = to_categorical(y, num_classes=vocab_size)\n",
    "                yield (X, y)"
   ]
  },
  {
   "cell_type": "code",
   "execution_count": null,
   "metadata": {
    "scrolled": true
   },
   "outputs": [
    {
     "name": "stdout",
     "output_type": "stream",
     "text": [
      "Epoch 1/10\n",
      "135581/135581 [==============================] - 91s 671us/step - loss: 6.6860 - acc: 0.0515\n",
      "Epoch 2/10\n",
      "135581/135581 [==============================] - 89s 656us/step - loss: 6.0358 - acc: 0.1012\n",
      "Epoch 3/10\n",
      "135581/135581 [==============================] - 86s 636us/step - loss: 5.5892 - acc: 0.1428\n",
      "Epoch 4/10\n",
      "135581/135581 [==============================] - 86s 638us/step - loss: 5.3169 - acc: 0.1638\n",
      "Epoch 5/10\n",
      "135581/135581 [==============================] - 85s 630us/step - loss: 5.1249 - acc: 0.1779\n",
      "Epoch 6/10\n",
      "135581/135581 [==============================] - 106s 781us/step - loss: 4.9677 - acc: 0.1889\n",
      "Epoch 7/10\n",
      "135581/135581 [==============================] - 104s 766us/step - loss: 4.8311 - acc: 0.1971\n",
      "Epoch 8/10\n",
      "135581/135581 [==============================] - 96s 711us/step - loss: 4.7079 - acc: 0.2061\n",
      "Epoch 9/10\n",
      "135581/135581 [==============================] - 99s 734us/step - loss: 4.5970 - acc: 0.2142\n",
      "Epoch 10/10\n",
      " 22208/135581 [===>..........................] - ETA: 1:17 - loss: 4.4076 - acc: 0.2290"
     ]
    }
   ],
   "source": [
    "# fit network\n",
    "batch_size = 1000\n",
    "num_steps_per_epoch = 2000#int((len(data))/ batch_size)\n",
    "num_epochs = 10\n",
    "#model.fit_generator(generate_arrays_from_file(file_path),\n",
    "#                    steps_per_epoch=num_steps_per_epoch, epochs=num_epochs, verbose=1)\n",
    "model.fit(X, y, epochs=num_epochs, verbose=1)"
   ]
  },
  {
   "cell_type": "code",
   "execution_count": 7,
   "metadata": {},
   "outputs": [],
   "source": [
    "def generate_prediction(string, num_words):\n",
    "    prediction = generate_seq(model, tokenizer, max_length-1, string, num_words)\n",
    "    return prediction"
   ]
  },
  {
   "cell_type": "code",
   "execution_count": 8,
   "metadata": {},
   "outputs": [
    {
     "name": "stdout",
     "output_type": "stream",
     "text": [
      "My wife (34f) and i don't know what to do about my ex gf (f20) and i don't know what to do about my ex gf (f20) \n",
      "\n",
      "My husband (35m) of 13 years and i don't know what to do about my ex gf (f20) and i don't know what to do about my \n",
      "\n",
      "My friend is trying to get over my ex gf (f20) and i don't know what to do about my ex gf (f20) and i don't know \n",
      "\n",
      "My fiance (25m) when i try to help her insecurities? me [30f] because i don't know what to do about my ex gf (f20) and i don't \n",
      "\n",
      "My (22M) boyfriend (23m) is suicidal but refuses to support her i am not sure if i should break up with me and i don't know what \n",
      "\n",
      "My girlfriend is it time to be in a relationship with my boyfriend (21m) broke up with me and i don't know what to do about my \n",
      "\n",
      "My boyfriend (21m) broke up with me and i don't know what to do about my ex gf (f20) and i don't know what to do about \n",
      "\n",
      "My partner (24m) who i've been seeing has ed that he's not actually dying he's just a friend (24m) who i've been seeing has ed that he's \n",
      "\n",
      "My (23F) boyfriend (23m) is suicidal but refuses to support her i am not sure if i should break up with me and i don't know what \n",
      "\n",
      "My spouse has been weird about it my (18 f) likes me. should i do? my boyfriend (21m) broke up with me and i don't know what \n",
      "\n"
     ]
    }
   ],
   "source": [
    "# evaluate model\n",
    "\n",
    "test1 = \"My wife\"\n",
    "test2 = \"My husband\"\n",
    "test3 = \"My friend\"\n",
    "test4 = \"My fiance\"\n",
    "test5 = \"My (22M)\"\n",
    "test6 = \"My girlfriend\"\n",
    "test7 = \"My boyfriend\"\n",
    "test8 = \"My partner\"\n",
    "test9 = \"My (23F)\"\n",
    "test10 = \"My spouse\"\n",
    "\n",
    "length = 25\n",
    "\n",
    "print(generate_prediction(test1, length),\"\\n\")\n",
    "print(generate_prediction(test2, length),\"\\n\")\n",
    "print(generate_prediction(test3, length),\"\\n\")\n",
    "print(generate_prediction(test4, length),\"\\n\")\n",
    "print(generate_prediction(test5, length),\"\\n\")\n",
    "print(generate_prediction(test6, length),\"\\n\")\n",
    "print(generate_prediction(test7, length),\"\\n\")\n",
    "print(generate_prediction(test8, length),\"\\n\")\n",
    "print(generate_prediction(test9, length),\"\\n\")\n",
    "print(generate_prediction(test10, length),\"\\n\")\n"
   ]
  },
  {
   "cell_type": "code",
   "execution_count": 9,
   "metadata": {},
   "outputs": [],
   "source": [
    "model_path = \"../saved_models/relationships_{}.h5\".format(num_epochs)\n",
    "model.save(model_path)\n",
    "\n",
    "\n",
    "key_data = [tokenizer, max_length, num_epochs]\n",
    "\n",
    "with open(\"../saved_models/relationships_{}.pickle\".format(num_epochs), 'wb') as f:\n",
    "    pickle.dump(key_data, f)"
   ]
  },
  {
   "cell_type": "code",
   "execution_count": null,
   "metadata": {},
   "outputs": [],
   "source": []
  },
  {
   "cell_type": "code",
   "execution_count": 10,
   "metadata": {},
   "outputs": [
    {
     "name": "stdout",
     "output_type": "stream",
     "text": [
      "Dan Welsh by my grandma (73f) and don’t know what to do about my ex gf (f20)\n"
     ]
    }
   ],
   "source": [
    "print(generate_prediction(\"Dan Welsh\", 15))"
   ]
  },
  {
   "cell_type": "code",
   "execution_count": 11,
   "metadata": {},
   "outputs": [],
   "source": [
    "del model"
   ]
  }
 ],
 "metadata": {
  "kernelspec": {
   "display_name": "Python 3",
   "language": "python",
   "name": "python3"
  },
  "language_info": {
   "codemirror_mode": {
    "name": "ipython",
    "version": 3
   },
   "file_extension": ".py",
   "mimetype": "text/x-python",
   "name": "python",
   "nbconvert_exporter": "python",
   "pygments_lexer": "ipython3",
   "version": "3.7.0"
  }
 },
 "nbformat": 4,
 "nbformat_minor": 2
}
